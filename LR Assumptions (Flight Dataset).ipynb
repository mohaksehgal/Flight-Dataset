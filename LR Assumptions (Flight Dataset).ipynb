{
 "cells": [
  {
   "cell_type": "code",
   "execution_count": 81,
   "metadata": {},
   "outputs": [],
   "source": [
    "import pandas as pd\n",
    "import numpy as np\n",
    "import matplotlib.pyplot as plt\n",
    "import seaborn as sns\n",
    "from sklearn.linear_model import LinearRegression\n",
    "from sklearn.model_selection import train_test_split\n",
    "from scipy.stats import shapiro\n",
    "from sklearn.preprocessing import StandardScaler\n",
    "import pylab\n",
    "from sklearn.metrics import r2_score, mean_squared_error\n",
    "import scipy.stats as stats\n",
    "from statsmodels.stats.outliers_influence import variance_inflation_factor\n",
    "import statsmodels.stats.api as sts\n",
    "import statsmodels.api as sms"
   ]
  },
  {
   "cell_type": "code",
   "execution_count": 30,
   "metadata": {},
   "outputs": [],
   "source": [
    "A=pd.read_excel('cleaned_file.xlsx')"
   ]
  },
  {
   "cell_type": "code",
   "execution_count": 31,
   "metadata": {},
   "outputs": [
    {
     "data": {
      "text/plain": [
       "(13354, 12)"
      ]
     },
     "execution_count": 31,
     "metadata": {},
     "output_type": "execute_result"
    }
   ],
   "source": [
    "A.shape"
   ]
  },
  {
   "cell_type": "code",
   "execution_count": 32,
   "metadata": {},
   "outputs": [],
   "source": [
    "A.drop(['Unnamed: 0','Additional_Info'], axis=1, inplace=True)"
   ]
  },
  {
   "cell_type": "code",
   "execution_count": 33,
   "metadata": {
    "scrolled": true
   },
   "outputs": [
    {
     "data": {
      "text/html": [
       "<div>\n",
       "<style scoped>\n",
       "    .dataframe tbody tr th:only-of-type {\n",
       "        vertical-align: middle;\n",
       "    }\n",
       "\n",
       "    .dataframe tbody tr th {\n",
       "        vertical-align: top;\n",
       "    }\n",
       "\n",
       "    .dataframe thead th {\n",
       "        text-align: right;\n",
       "    }\n",
       "</style>\n",
       "<table border=\"1\" class=\"dataframe\">\n",
       "  <thead>\n",
       "    <tr style=\"text-align: right;\">\n",
       "      <th></th>\n",
       "      <th>Airline</th>\n",
       "      <th>Arrival</th>\n",
       "      <th>Dep</th>\n",
       "      <th>Destination</th>\n",
       "      <th>Price</th>\n",
       "      <th>Source</th>\n",
       "      <th>Status</th>\n",
       "      <th>Total_Stops</th>\n",
       "      <th>Date_of_Journey(Month)</th>\n",
       "      <th>Total_Time</th>\n",
       "    </tr>\n",
       "  </thead>\n",
       "  <tbody>\n",
       "    <tr>\n",
       "      <th>0</th>\n",
       "      <td>IndiGo</td>\n",
       "      <td>Morning</td>\n",
       "      <td>Night</td>\n",
       "      <td>Delhi</td>\n",
       "      <td>3897.0</td>\n",
       "      <td>Banglore</td>\n",
       "      <td>Train</td>\n",
       "      <td>0</td>\n",
       "      <td>3</td>\n",
       "      <td>170</td>\n",
       "    </tr>\n",
       "    <tr>\n",
       "      <th>1</th>\n",
       "      <td>Air India</td>\n",
       "      <td>Noon</td>\n",
       "      <td>Morning</td>\n",
       "      <td>Banglore</td>\n",
       "      <td>7662.0</td>\n",
       "      <td>Kolkata</td>\n",
       "      <td>Train</td>\n",
       "      <td>2</td>\n",
       "      <td>5</td>\n",
       "      <td>445</td>\n",
       "    </tr>\n",
       "    <tr>\n",
       "      <th>2</th>\n",
       "      <td>Jet Airways</td>\n",
       "      <td>Morning</td>\n",
       "      <td>Morning</td>\n",
       "      <td>Cochin</td>\n",
       "      <td>13882.0</td>\n",
       "      <td>Delhi</td>\n",
       "      <td>Train</td>\n",
       "      <td>2</td>\n",
       "      <td>6</td>\n",
       "      <td>1140</td>\n",
       "    </tr>\n",
       "    <tr>\n",
       "      <th>3</th>\n",
       "      <td>IndiGo</td>\n",
       "      <td>Night</td>\n",
       "      <td>Eveing</td>\n",
       "      <td>Banglore</td>\n",
       "      <td>6218.0</td>\n",
       "      <td>Kolkata</td>\n",
       "      <td>Train</td>\n",
       "      <td>1</td>\n",
       "      <td>5</td>\n",
       "      <td>325</td>\n",
       "    </tr>\n",
       "    <tr>\n",
       "      <th>4</th>\n",
       "      <td>IndiGo</td>\n",
       "      <td>Night</td>\n",
       "      <td>Noon</td>\n",
       "      <td>Delhi</td>\n",
       "      <td>13302.0</td>\n",
       "      <td>Banglore</td>\n",
       "      <td>Train</td>\n",
       "      <td>1</td>\n",
       "      <td>3</td>\n",
       "      <td>285</td>\n",
       "    </tr>\n",
       "  </tbody>\n",
       "</table>\n",
       "</div>"
      ],
      "text/plain": [
       "       Airline  Arrival      Dep Destination    Price    Source Status  \\\n",
       "0       IndiGo  Morning    Night       Delhi   3897.0  Banglore  Train   \n",
       "1    Air India     Noon  Morning    Banglore   7662.0   Kolkata  Train   \n",
       "2  Jet Airways  Morning  Morning      Cochin  13882.0     Delhi  Train   \n",
       "3       IndiGo    Night   Eveing    Banglore   6218.0   Kolkata  Train   \n",
       "4       IndiGo    Night     Noon       Delhi  13302.0  Banglore  Train   \n",
       "\n",
       "   Total_Stops  Date_of_Journey(Month)  Total_Time  \n",
       "0            0                       3         170  \n",
       "1            2                       5         445  \n",
       "2            2                       6        1140  \n",
       "3            1                       5         325  \n",
       "4            1                       3         285  "
      ]
     },
     "execution_count": 33,
     "metadata": {},
     "output_type": "execute_result"
    }
   ],
   "source": [
    "A.head()"
   ]
  },
  {
   "cell_type": "code",
   "execution_count": 34,
   "metadata": {},
   "outputs": [],
   "source": [
    "A=A[A['Status']=='Train']"
   ]
  },
  {
   "cell_type": "code",
   "execution_count": 36,
   "metadata": {},
   "outputs": [],
   "source": [
    "A.drop('Status', axis=1, inplace=True)"
   ]
  },
  {
   "cell_type": "code",
   "execution_count": 38,
   "metadata": {},
   "outputs": [],
   "source": [
    "A_dummy=pd.get_dummies(A, drop_first=True)"
   ]
  },
  {
   "cell_type": "code",
   "execution_count": 39,
   "metadata": {},
   "outputs": [],
   "source": [
    "x=A_dummy.drop('Price', axis=1)\n",
    "y=A_dummy['Price']"
   ]
  },
  {
   "cell_type": "code",
   "execution_count": 40,
   "metadata": {},
   "outputs": [],
   "source": [
    "xtrain, xtest, ytrain, ytest= train_test_split(x,y, test_size=.20)"
   ]
  },
  {
   "cell_type": "code",
   "execution_count": 41,
   "metadata": {},
   "outputs": [],
   "source": [
    "SC=StandardScaler()"
   ]
  },
  {
   "cell_type": "code",
   "execution_count": 42,
   "metadata": {},
   "outputs": [
    {
     "name": "stderr",
     "output_type": "stream",
     "text": [
      "C:\\Users\\user\\Anaconda3\\lib\\site-packages\\sklearn\\preprocessing\\data.py:645: DataConversionWarning: Data with input dtype uint8, int64 were all converted to float64 by StandardScaler.\n",
      "  return self.partial_fit(X, y)\n",
      "C:\\Users\\user\\Anaconda3\\lib\\site-packages\\sklearn\\base.py:464: DataConversionWarning: Data with input dtype uint8, int64 were all converted to float64 by StandardScaler.\n",
      "  return self.fit(X, **fit_params).transform(X)\n"
     ]
    }
   ],
   "source": [
    "xtrain_scaled=pd.DataFrame(SC.fit_transform(xtrain), columns=xtrain.columns)"
   ]
  },
  {
   "cell_type": "code",
   "execution_count": 43,
   "metadata": {},
   "outputs": [
    {
     "data": {
      "text/html": [
       "<div>\n",
       "<style scoped>\n",
       "    .dataframe tbody tr th:only-of-type {\n",
       "        vertical-align: middle;\n",
       "    }\n",
       "\n",
       "    .dataframe tbody tr th {\n",
       "        vertical-align: top;\n",
       "    }\n",
       "\n",
       "    .dataframe thead th {\n",
       "        text-align: right;\n",
       "    }\n",
       "</style>\n",
       "<table border=\"1\" class=\"dataframe\">\n",
       "  <thead>\n",
       "    <tr style=\"text-align: right;\">\n",
       "      <th></th>\n",
       "      <th>Total_Stops</th>\n",
       "      <th>Date_of_Journey(Month)</th>\n",
       "      <th>Total_Time</th>\n",
       "      <th>Airline_Air India</th>\n",
       "      <th>Airline_GoAir</th>\n",
       "      <th>Airline_IndiGo</th>\n",
       "      <th>Airline_Jet Airways</th>\n",
       "      <th>Airline_Jet Airways Business</th>\n",
       "      <th>Airline_Multiple carriers</th>\n",
       "      <th>Airline_Multiple carriers Premium economy</th>\n",
       "      <th>...</th>\n",
       "      <th>Dep_Night</th>\n",
       "      <th>Dep_Noon</th>\n",
       "      <th>Destination_Cochin</th>\n",
       "      <th>Destination_Delhi</th>\n",
       "      <th>Destination_Hyderabad</th>\n",
       "      <th>Destination_Kolkata</th>\n",
       "      <th>Source_Chennai</th>\n",
       "      <th>Source_Delhi</th>\n",
       "      <th>Source_Kolkata</th>\n",
       "      <th>Source_Mumbai</th>\n",
       "    </tr>\n",
       "  </thead>\n",
       "  <tbody>\n",
       "    <tr>\n",
       "      <th>0</th>\n",
       "      <td>0.257543</td>\n",
       "      <td>-1.476760</td>\n",
       "      <td>0.219669</td>\n",
       "      <td>-0.445454</td>\n",
       "      <td>-0.138128</td>\n",
       "      <td>-0.486394</td>\n",
       "      <td>-0.7478</td>\n",
       "      <td>-0.024195</td>\n",
       "      <td>2.797948</td>\n",
       "      <td>-0.039032</td>\n",
       "      <td>...</td>\n",
       "      <td>-0.42702</td>\n",
       "      <td>-0.466611</td>\n",
       "      <td>1.157345</td>\n",
       "      <td>-0.510000</td>\n",
       "      <td>-0.26354</td>\n",
       "      <td>-0.18842</td>\n",
       "      <td>-0.18842</td>\n",
       "      <td>1.157345</td>\n",
       "      <td>-0.603396</td>\n",
       "      <td>-0.26354</td>\n",
       "    </tr>\n",
       "    <tr>\n",
       "      <th>1</th>\n",
       "      <td>0.257543</td>\n",
       "      <td>-1.476760</td>\n",
       "      <td>-0.373054</td>\n",
       "      <td>-0.445454</td>\n",
       "      <td>-0.138128</td>\n",
       "      <td>2.055945</td>\n",
       "      <td>-0.7478</td>\n",
       "      <td>-0.024195</td>\n",
       "      <td>-0.357405</td>\n",
       "      <td>-0.039032</td>\n",
       "      <td>...</td>\n",
       "      <td>-0.42702</td>\n",
       "      <td>-0.466611</td>\n",
       "      <td>1.157345</td>\n",
       "      <td>-0.510000</td>\n",
       "      <td>-0.26354</td>\n",
       "      <td>-0.18842</td>\n",
       "      <td>-0.18842</td>\n",
       "      <td>1.157345</td>\n",
       "      <td>-0.603396</td>\n",
       "      <td>-0.26354</td>\n",
       "    </tr>\n",
       "    <tr>\n",
       "      <th>2</th>\n",
       "      <td>0.257543</td>\n",
       "      <td>1.099005</td>\n",
       "      <td>-0.027299</td>\n",
       "      <td>-0.445454</td>\n",
       "      <td>-0.138128</td>\n",
       "      <td>-0.486394</td>\n",
       "      <td>-0.7478</td>\n",
       "      <td>-0.024195</td>\n",
       "      <td>2.797948</td>\n",
       "      <td>-0.039032</td>\n",
       "      <td>...</td>\n",
       "      <td>-0.42702</td>\n",
       "      <td>2.143113</td>\n",
       "      <td>1.157345</td>\n",
       "      <td>-0.510000</td>\n",
       "      <td>-0.26354</td>\n",
       "      <td>-0.18842</td>\n",
       "      <td>-0.18842</td>\n",
       "      <td>1.157345</td>\n",
       "      <td>-0.603396</td>\n",
       "      <td>-0.26354</td>\n",
       "    </tr>\n",
       "    <tr>\n",
       "      <th>3</th>\n",
       "      <td>-1.223589</td>\n",
       "      <td>-1.476760</td>\n",
       "      <td>-0.936142</td>\n",
       "      <td>-0.445454</td>\n",
       "      <td>-0.138128</td>\n",
       "      <td>2.055945</td>\n",
       "      <td>-0.7478</td>\n",
       "      <td>-0.024195</td>\n",
       "      <td>-0.357405</td>\n",
       "      <td>-0.039032</td>\n",
       "      <td>...</td>\n",
       "      <td>-0.42702</td>\n",
       "      <td>2.143113</td>\n",
       "      <td>-0.864047</td>\n",
       "      <td>1.960783</td>\n",
       "      <td>-0.26354</td>\n",
       "      <td>-0.18842</td>\n",
       "      <td>-0.18842</td>\n",
       "      <td>-0.864047</td>\n",
       "      <td>-0.603396</td>\n",
       "      <td>-0.26354</td>\n",
       "    </tr>\n",
       "    <tr>\n",
       "      <th>4</th>\n",
       "      <td>1.738675</td>\n",
       "      <td>-1.476760</td>\n",
       "      <td>0.239427</td>\n",
       "      <td>-0.445454</td>\n",
       "      <td>-0.138128</td>\n",
       "      <td>2.055945</td>\n",
       "      <td>-0.7478</td>\n",
       "      <td>-0.024195</td>\n",
       "      <td>-0.357405</td>\n",
       "      <td>-0.039032</td>\n",
       "      <td>...</td>\n",
       "      <td>-0.42702</td>\n",
       "      <td>-0.466611</td>\n",
       "      <td>1.157345</td>\n",
       "      <td>-0.510000</td>\n",
       "      <td>-0.26354</td>\n",
       "      <td>-0.18842</td>\n",
       "      <td>-0.18842</td>\n",
       "      <td>1.157345</td>\n",
       "      <td>-0.603396</td>\n",
       "      <td>-0.26354</td>\n",
       "    </tr>\n",
       "  </tbody>\n",
       "</table>\n",
       "<p>5 rows × 28 columns</p>\n",
       "</div>"
      ],
      "text/plain": [
       "   Total_Stops  Date_of_Journey(Month)  Total_Time  Airline_Air India  \\\n",
       "0     0.257543               -1.476760    0.219669          -0.445454   \n",
       "1     0.257543               -1.476760   -0.373054          -0.445454   \n",
       "2     0.257543                1.099005   -0.027299          -0.445454   \n",
       "3    -1.223589               -1.476760   -0.936142          -0.445454   \n",
       "4     1.738675               -1.476760    0.239427          -0.445454   \n",
       "\n",
       "   Airline_GoAir  Airline_IndiGo  Airline_Jet Airways  \\\n",
       "0      -0.138128       -0.486394              -0.7478   \n",
       "1      -0.138128        2.055945              -0.7478   \n",
       "2      -0.138128       -0.486394              -0.7478   \n",
       "3      -0.138128        2.055945              -0.7478   \n",
       "4      -0.138128        2.055945              -0.7478   \n",
       "\n",
       "   Airline_Jet Airways Business  Airline_Multiple carriers  \\\n",
       "0                     -0.024195                   2.797948   \n",
       "1                     -0.024195                  -0.357405   \n",
       "2                     -0.024195                   2.797948   \n",
       "3                     -0.024195                  -0.357405   \n",
       "4                     -0.024195                  -0.357405   \n",
       "\n",
       "   Airline_Multiple carriers Premium economy  ...  Dep_Night  Dep_Noon  \\\n",
       "0                                  -0.039032  ...   -0.42702 -0.466611   \n",
       "1                                  -0.039032  ...   -0.42702 -0.466611   \n",
       "2                                  -0.039032  ...   -0.42702  2.143113   \n",
       "3                                  -0.039032  ...   -0.42702  2.143113   \n",
       "4                                  -0.039032  ...   -0.42702 -0.466611   \n",
       "\n",
       "   Destination_Cochin  Destination_Delhi  Destination_Hyderabad  \\\n",
       "0            1.157345          -0.510000               -0.26354   \n",
       "1            1.157345          -0.510000               -0.26354   \n",
       "2            1.157345          -0.510000               -0.26354   \n",
       "3           -0.864047           1.960783               -0.26354   \n",
       "4            1.157345          -0.510000               -0.26354   \n",
       "\n",
       "   Destination_Kolkata  Source_Chennai  Source_Delhi  Source_Kolkata  \\\n",
       "0             -0.18842        -0.18842      1.157345       -0.603396   \n",
       "1             -0.18842        -0.18842      1.157345       -0.603396   \n",
       "2             -0.18842        -0.18842      1.157345       -0.603396   \n",
       "3             -0.18842        -0.18842     -0.864047       -0.603396   \n",
       "4             -0.18842        -0.18842      1.157345       -0.603396   \n",
       "\n",
       "   Source_Mumbai  \n",
       "0       -0.26354  \n",
       "1       -0.26354  \n",
       "2       -0.26354  \n",
       "3       -0.26354  \n",
       "4       -0.26354  \n",
       "\n",
       "[5 rows x 28 columns]"
      ]
     },
     "execution_count": 43,
     "metadata": {},
     "output_type": "execute_result"
    }
   ],
   "source": [
    "xtrain_scaled.head()"
   ]
  },
  {
   "cell_type": "code",
   "execution_count": 51,
   "metadata": {},
   "outputs": [
    {
     "data": {
      "text/plain": [
       "(8546, 28)"
      ]
     },
     "execution_count": 51,
     "metadata": {},
     "output_type": "execute_result"
    }
   ],
   "source": [
    "xtrain_scaled.shape"
   ]
  },
  {
   "cell_type": "code",
   "execution_count": 53,
   "metadata": {},
   "outputs": [
    {
     "data": {
      "text/plain": [
       "(2137, 28)"
      ]
     },
     "execution_count": 53,
     "metadata": {},
     "output_type": "execute_result"
    }
   ],
   "source": [
    "xtest_scaled.shape"
   ]
  },
  {
   "cell_type": "code",
   "execution_count": 50,
   "metadata": {},
   "outputs": [
    {
     "name": "stderr",
     "output_type": "stream",
     "text": [
      "C:\\Users\\user\\Anaconda3\\lib\\site-packages\\ipykernel_launcher.py:1: DataConversionWarning: Data with input dtype uint8, int64 were all converted to float64 by StandardScaler.\n",
      "  \"\"\"Entry point for launching an IPython kernel.\n"
     ]
    }
   ],
   "source": [
    "xtest_scaled=pd.DataFrame(SC.transform(xtest), columns=xtrain.columns)"
   ]
  },
  {
   "cell_type": "code",
   "execution_count": 54,
   "metadata": {},
   "outputs": [],
   "source": [
    "lr=LinearRegression()"
   ]
  },
  {
   "cell_type": "code",
   "execution_count": 55,
   "metadata": {},
   "outputs": [],
   "source": [
    "ypre=lr.fit(xtrain_scaled,ytrain).predict(xtest_scaled)"
   ]
  },
  {
   "cell_type": "code",
   "execution_count": 60,
   "metadata": {},
   "outputs": [
    {
     "data": {
      "text/plain": [
       "2784.945762137297"
      ]
     },
     "execution_count": 60,
     "metadata": {},
     "output_type": "execute_result"
    }
   ],
   "source": [
    "np.sqrt(mean_squared_error(ytest, ypre))"
   ]
  },
  {
   "cell_type": "code",
   "execution_count": 61,
   "metadata": {},
   "outputs": [
    {
     "data": {
      "text/plain": [
       "0.6019065636949502"
      ]
     },
     "execution_count": 61,
     "metadata": {},
     "output_type": "execute_result"
    }
   ],
   "source": [
    "r2_score(ytest,ypre)"
   ]
  },
  {
   "cell_type": "markdown",
   "metadata": {},
   "source": [
    "### Pattern in Residual"
   ]
  },
  {
   "cell_type": "code",
   "execution_count": 62,
   "metadata": {},
   "outputs": [],
   "source": [
    "residual=ytest-ypre"
   ]
  },
  {
   "cell_type": "code",
   "execution_count": 64,
   "metadata": {},
   "outputs": [
    {
     "data": {
      "text/plain": [
       "<matplotlib.axes._subplots.AxesSubplot at 0x227966cc438>"
      ]
     },
     "execution_count": 64,
     "metadata": {},
     "output_type": "execute_result"
    },
    {
     "data": {
      "image/png": "[encoded data removed]",
      "text/plain": [
       "<Figure size 432x288 with 1 Axes>"
      ]
     },
     "metadata": {
      "needs_background": "light"
     },
     "output_type": "display_data"
    }
   ],
   "source": [
    "sns.residplot(ytest, residual)"
   ]
  },
  {
   "cell_type": "markdown",
   "metadata": {},
   "source": [
    "There is no pattern in the residual"
   ]
  },
  {
   "cell_type": "markdown",
   "metadata": {},
   "source": [
    "### Normality"
   ]
  },
  {
   "cell_type": "code",
   "execution_count": 67,
   "metadata": {},
   "outputs": [
    {
     "data": {
      "image/png": "[encoded data removed]",
      "text/plain": [
       "<Figure size 432x288 with 1 Axes>"
      ]
     },
     "metadata": {
      "needs_background": "light"
     },
     "output_type": "display_data"
    }
   ],
   "source": [
    "stats.probplot(residual, plot=pylab)\n",
    "plt.show()"
   ]
  },
  {
   "cell_type": "code",
   "execution_count": 69,
   "metadata": {},
   "outputs": [
    {
     "data": {
      "text/plain": [
       "(0.9397127628326416, 1.2121539458312124e-28)"
      ]
     },
     "execution_count": 69,
     "metadata": {},
     "output_type": "execute_result"
    }
   ],
   "source": [
    "shapiro(residual)"
   ]
  },
  {
   "cell_type": "markdown",
   "metadata": {},
   "source": [
    "As we can see that the p value is less than the alpha(0.05). so if the p value is less than alpha we reject the H0 which the data is normal. so by this we can say that the data is not normal and we reject the H0"
   ]
  },
  {
   "cell_type": "markdown",
   "metadata": {},
   "source": [
    "### Hetroscedasticity"
   ]
  },
  {
   "cell_type": "code",
   "execution_count": 78,
   "metadata": {},
   "outputs": [
    {
     "data": {
      "text/plain": [
       "(0.991223212448145, 0.5566674878294384, 'increasing')"
      ]
     },
     "execution_count": 78,
     "metadata": {},
     "output_type": "execute_result"
    }
   ],
   "source": [
    "sts.het_goldfeldquandt(residual, xtest)"
   ]
  },
  {
   "cell_type": "markdown",
   "metadata": {},
   "source": [
    "the p value is greater than the alpha (0.05) so we can say that the we fail to reject the H0 which is the data is not hetroscedasticity."
   ]
  },
  {
   "cell_type": "markdown",
   "metadata": {},
   "source": [
    "### Auto-Correlation"
   ]
  },
  {
   "cell_type": "code",
   "execution_count": 79,
   "metadata": {},
   "outputs": [
    {
     "data": {
      "text/plain": [
       "2.024980441551304"
      ]
     },
     "execution_count": 79,
     "metadata": {},
     "output_type": "execute_result"
    }
   ],
   "source": [
    "sts.stattools.durbin_watson(residual,axis=0)  #mild correlation (negative)"
   ]
  }
 ],
 "metadata": {
  "kernelspec": {
   "display_name": "Python 3",
   "language": "python",
   "name": "python3"
  },
  "language_info": {
   "codemirror_mode": {
    "name": "ipython",
    "version": 3
   },
   "file_extension": ".py",
   "mimetype": "text/x-python",
   "name": "python",
   "nbconvert_exporter": "python",
   "pygments_lexer": "ipython3",
   "version": "3.7.3"
  }
 },
 "nbformat": 4,
 "nbformat_minor": 2
}
